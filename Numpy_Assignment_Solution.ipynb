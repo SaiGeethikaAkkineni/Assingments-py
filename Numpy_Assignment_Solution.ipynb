{
  "nbformat": 4,
  "nbformat_minor": 0,
  "metadata": {
    "colab": {
      "provenance": []
    },
    "kernelspec": {
      "name": "python3",
      "display_name": "Python 3"
    },
    "language_info": {
      "name": "python"
    }
  },
  "cells": [
    {
      "cell_type": "code",
      "execution_count": null,
      "metadata": {
        "colab": {
          "base_uri": "https://localhost:8080/"
        },
        "id": "M7y50MhzxMJt",
        "outputId": "ab6a7bcd-a0c7-451e-c7da-34965a7ea9bf"
      },
      "outputs": [
        {
          "output_type": "stream",
          "name": "stdout",
          "text": [
            "[[0. 0. 0.]\n",
            " [0. 0. 0.]\n",
            " [0. 0. 0.]]\n"
          ]
        }
      ],
      "source": [
        "import numpy as np\n",
        "zeros_array = np.zeros((3, 3))\n",
        "print(zeros_array)"
      ]
    },
    {
      "cell_type": "code",
      "source": [
        "ones_array = np.ones((3,3))\n",
        "print(ones_array)"
      ],
      "metadata": {
        "colab": {
          "base_uri": "https://localhost:8080/"
        },
        "id": "DdcRPMFixOGK",
        "outputId": "654556a9-59c4-4d8a-ab84-f2523adcdd05"
      },
      "execution_count": null,
      "outputs": [
        {
          "output_type": "stream",
          "name": "stdout",
          "text": [
            "[[1. 1. 1.]\n",
            " [1. 1. 1.]\n",
            " [1. 1. 1.]]\n"
          ]
        }
      ]
    },
    {
      "cell_type": "code",
      "source": [
        "array = np.arange(1,11)\n",
        "print(array)"
      ],
      "metadata": {
        "colab": {
          "base_uri": "https://localhost:8080/"
        },
        "id": "KLPQkmWExmg2",
        "outputId": "75de241d-38e0-43fe-c7b8-f2d0b618600e"
      },
      "execution_count": null,
      "outputs": [
        {
          "output_type": "stream",
          "name": "stdout",
          "text": [
            "[ 1  2  3  4  5  6  7  8  9 10]\n"
          ]
        }
      ]
    },
    {
      "cell_type": "code",
      "source": [
        "arr = np.array([1, 2, 3, 4, 5, 6, 7, 8, 9, 10])\n",
        "sub_array = arr[3:8]\n",
        "print(sub_array)"
      ],
      "metadata": {
        "colab": {
          "base_uri": "https://localhost:8080/"
        },
        "id": "s2yrd30Uxx_Z",
        "outputId": "f4c7c0e2-4686-46c8-96c1-f33be5c24fdc"
      },
      "execution_count": null,
      "outputs": [
        {
          "output_type": "stream",
          "name": "stdout",
          "text": [
            "[4 5 6 7 8]\n"
          ]
        }
      ]
    },
    {
      "cell_type": "code",
      "source": [
        "random_array = np.random.randint(10, 50, size=(5, 5))  # 5x5 array with values between 10 and 50\n",
        "\n",
        "extracted_rows = random_array[1:3, :]  # Extracting second and third rows (index 1 and 2)\n",
        "\n",
        "print(\"Random 5x5 Array:\\n\", random_array)\n",
        "print(\"\\nExtracted Rows:\\n\", extracted_rows)"
      ],
      "metadata": {
        "colab": {
          "base_uri": "https://localhost:8080/"
        },
        "id": "UJxRRWUnyVJV",
        "outputId": "3500b94f-cec1-4a99-8b31-6d346c08b009"
      },
      "execution_count": null,
      "outputs": [
        {
          "output_type": "stream",
          "name": "stdout",
          "text": [
            "Random 5x5 Array:\n",
            " [[10 49 25 39 17]\n",
            " [11 40 49 35 20]\n",
            " [36 42 22 20 44]\n",
            " [34 19 22 35 37]\n",
            " [27 12 24 34 40]]\n",
            "\n",
            "Extracted Rows:\n",
            " [[11 40 49 35 20]\n",
            " [36 42 22 20 44]]\n"
          ]
        }
      ]
    },
    {
      "cell_type": "code",
      "source": [
        "array1 = np.arange(1, 10).reshape(3, 3)\n",
        "\n",
        "# Creating the second array with values from 10 to 18\n",
        "array2 = np.arange(10, 19).reshape(3, 3)\n",
        "\n",
        "# Element-wise addition\n",
        "addition_result = array1 + array2\n",
        "\n",
        "# Element-wise multiplication\n",
        "multiplication_result = array1 * array2\n",
        "\n",
        "print(\"First Array:\\n\", array1)\n",
        "print(\"Second Array:\\n\", array2)\n",
        "print(\"Element-wise Addition:\\n\", addition_result)\n",
        "print(\"Element-wise Multiplication:\\n\", multiplication_result)"
      ],
      "metadata": {
        "colab": {
          "base_uri": "https://localhost:8080/"
        },
        "id": "EQJjB1hDyl0B",
        "outputId": "21d2174e-76ce-466a-bdb6-5fc8ee4ab120"
      },
      "execution_count": null,
      "outputs": [
        {
          "output_type": "stream",
          "name": "stdout",
          "text": [
            "First Array:\n",
            " [[1 2 3]\n",
            " [4 5 6]\n",
            " [7 8 9]]\n",
            "Second Array:\n",
            " [[10 11 12]\n",
            " [13 14 15]\n",
            " [16 17 18]]\n",
            "Element-wise Addition:\n",
            " [[11 13 15]\n",
            " [17 19 21]\n",
            " [23 25 27]]\n",
            "Element-wise Multiplication:\n",
            " [[ 10  22  36]\n",
            " [ 52  70  90]\n",
            " [112 136 162]]\n"
          ]
        }
      ]
    },
    {
      "cell_type": "code",
      "source": [
        "arr = np.array([10, 20, 30, 40, 50])\n",
        "\n",
        "modified_arr = (arr - 10) * 2\n",
        "\n",
        "print(\"Modified Array:\", modified_arr)"
      ],
      "metadata": {
        "colab": {
          "base_uri": "https://localhost:8080/"
        },
        "id": "ijo_uaT2zS4J",
        "outputId": "7c42216e-7140-4307-c075-8bbad0c22aa0"
      },
      "execution_count": null,
      "outputs": [
        {
          "output_type": "stream",
          "name": "stdout",
          "text": [
            "Modified Array: [ 0 20 40 60 80]\n"
          ]
        }
      ]
    },
    {
      "cell_type": "code",
      "source": [
        "#Create a random array of 20 elements with values between 1 and 100. Find the mean, median, and standard deviation of the array.\n",
        "array = np.random.randint(1,101,20)\n",
        "meanarr = np.mean(array)\n",
        "medianarr = np.median(array)\n",
        "stdarr = np.std(array)\n",
        "print(array)\n",
        "print(meanarr)\n",
        "print(medianarr)\n",
        "print(stdarr)"
      ],
      "metadata": {
        "colab": {
          "base_uri": "https://localhost:8080/"
        },
        "id": "JsKVGH23zeoe",
        "outputId": "67c68615-0f10-4f99-eb0a-c7b9414f6965"
      },
      "execution_count": null,
      "outputs": [
        {
          "output_type": "stream",
          "name": "stdout",
          "text": [
            "[97 25  2 93 97 87 53 20 64 12 40 57 82 31  4 64 96 82  3 47]\n",
            "52.8\n",
            "55.0\n",
            "33.287535204637784\n"
          ]
        }
      ]
    },
    {
      "cell_type": "code",
      "source": [
        "# Generate a 4x4 matrix with random numbers and find the sum of all elements, sum of each row, and sum of each column\n",
        "rando_arr = np.random.randint(1,101,(4,4))\n",
        "total_sum = np.sum(rando_arr)\n",
        "row_sums = np.sum(rando_arr, axis=1)\n",
        "column_sums = np.sum(rando_arr, axis=0)\n",
        "\n",
        "print(\"\\nRandom 4x4 Matrix:\\n\", rando_arr)\n",
        "print(\"Sum of all elements:\", total_sum)\n",
        "print(\"Sum of each row:\", row_sums)\n",
        "print(\"Sum of each column:\", column_sums)"
      ],
      "metadata": {
        "colab": {
          "base_uri": "https://localhost:8080/"
        },
        "id": "p8ytqFHzz-4O",
        "outputId": "9470b28c-c15d-4cdd-d2da-c005a5db69fd"
      },
      "execution_count": null,
      "outputs": [
        {
          "output_type": "stream",
          "name": "stdout",
          "text": [
            "\n",
            "Random 4x4 Matrix:\n",
            " [[83 78 98 18]\n",
            " [18 79 60 81]\n",
            " [67 93 84 82]\n",
            " [87 86 64 90]]\n",
            "Sum of all elements: 1168\n",
            "Sum of each row: [277 238 326 327]\n",
            "Sum of each column: [255 336 306 271]\n"
          ]
        }
      ]
    },
    {
      "cell_type": "code",
      "source": [
        "# Create a 1-dimensional array with 16 elements and reshape it into a 4x4 matrix.\n",
        "array = np.arange(1,17).reshape(4,4)\n",
        "print(array)\n",
        " #Given a 3x4 matrix, transpose the matrix to get a 4x3 matrix.\n",
        "arr = np.arange(1,13).reshape(3,4)\n",
        "arrt= arr.T\n",
        "print(arrt)"
      ],
      "metadata": {
        "colab": {
          "base_uri": "https://localhost:8080/"
        },
        "id": "AXTOjDwg1C1m",
        "outputId": "19cb62f3-24ab-4b94-89c9-ac425407482e"
      },
      "execution_count": null,
      "outputs": [
        {
          "output_type": "stream",
          "name": "stdout",
          "text": [
            "[[ 1  2  3  4]\n",
            " [ 5  6  7  8]\n",
            " [ 9 10 11 12]\n",
            " [13 14 15 16]]\n",
            "[[ 1  5  9]\n",
            " [ 2  6 10]\n",
            " [ 3  7 11]\n",
            " [ 4  8 12]]\n"
          ]
        }
      ]
    },
    {
      "cell_type": "code",
      "source": [
        "# Create an array a = np.array([1, 2, 3]) and an array b = np.array([[1], [2], [3]]). Perform element-wise multiplication of a and b using broadcasting.\n",
        "a = np.array([1, 2, 3])\n",
        "b = np.array([[1], [2], [3]])\n",
        "print(a)\n",
        "print(b)\n",
        "re = a*b\n",
        "print(re)\n",
        "\n",
        "\n"
      ],
      "metadata": {
        "colab": {
          "base_uri": "https://localhost:8080/"
        },
        "id": "uwlxttyS4Dhq",
        "outputId": "38ecdc1a-c854-49e7-d766-605db61e1e5f"
      },
      "execution_count": null,
      "outputs": [
        {
          "output_type": "stream",
          "name": "stdout",
          "text": [
            "[1 2 3]\n",
            "[[1]\n",
            " [2]\n",
            " [3]]\n",
            "[[1 2 3]\n",
            " [2 4 6]\n",
            " [3 6 9]]\n"
          ]
        }
      ]
    },
    {
      "cell_type": "code",
      "source": [
        "#Given the array arr = np.array([5, 12, 18, 24, 32]), create a boolean array that checks which elements are greater than 15.\n",
        "arr = np.array([5, 12, 18, 24, 32])\n",
        "bool_arr = arr > 15\n",
        "print(\"Boolean Array:\", bool_arr)\n",
        "# Use the boolean array to extract the elements from arr that are greater than 15\n",
        "\n",
        "filtered_arr = arr[bool_arr]\n",
        "print(\"Filtered Elements:\", filtered_arr)\n"
      ],
      "metadata": {
        "colab": {
          "base_uri": "https://localhost:8080/"
        },
        "id": "UpiYzztF5qSU",
        "outputId": "65b54bd7-501b-49f1-82a1-3e48ab4acd41"
      },
      "execution_count": null,
      "outputs": [
        {
          "output_type": "stream",
          "name": "stdout",
          "text": [
            "Boolean Array: [False False  True  True  True]\n",
            "Filtered Elements: [18 24 32]\n"
          ]
        }
      ]
    },
    {
      "cell_type": "code",
      "source": [
        "# Create an array with elements [1, 2, np.nan, 4, np.nan, 6]. Use NumPy functions to replace NaN values with the mean of the non-NaN elements.\n",
        "arr = np.array([1, 2, np.nan, 4, np.nan, 6])\n",
        "mean_value = np.nanmean(arr)\n",
        "arr[np.isnan(arr)] = mean_value\n",
        "print(\"Array replacing NaNs:\", arr)\n",
        "#Create an array [np.inf,-np.inf, 5,-7]. Replace positive infinity with 10 and negative infinity with-10\n",
        "arr_inf = np.array([np.inf, -np.inf, 5, -7])\n",
        "arr_inf[arr_inf == np.inf] = 10\n",
        "arr_inf[arr_inf == -np.inf] = -10\n",
        "\n",
        "print(\"Array after replacing infinities:\", arr_inf)"
      ],
      "metadata": {
        "colab": {
          "base_uri": "https://localhost:8080/"
        },
        "id": "afoeEUaV6Zt2",
        "outputId": "41a9a7c8-9fd2-4693-eff9-f121d26f9c74"
      },
      "execution_count": null,
      "outputs": [
        {
          "output_type": "stream",
          "name": "stdout",
          "text": [
            "Array replacing NaNs: [1.   2.   3.25 4.   3.25 6.  ]\n",
            "Array after replacing infinities: [ 10. -10.   5.  -7.]\n"
          ]
        }
      ]
    },
    {
      "cell_type": "code",
      "source": [
        "#• Create a 1-dimensional array of 10 random integers between 1 and 100. Sort the array in ascending and descending order.\n",
        "arr = np.random.randint(1,101,10)\n",
        "arr_sort = np.sort(arr)\n",
        "print(arr_sort)\n",
        "#Given a 2-dimensional array, sort each row in ascending order.\n",
        "arr_2d = np.random.randint(1,101,(3,3))\n",
        "print(\"Original array:\\n\",arr_2d)\n",
        "sorted_arr_2d = np.sort(arr_2d, axis=1)\n",
        "print(\"\\nSorted array (each row in ascending order):\\n\",sorted_arr_2d)\n"
      ],
      "metadata": {
        "colab": {
          "base_uri": "https://localhost:8080/"
        },
        "id": "JfFOuXlo92X7",
        "outputId": "fc4f5992-8bcd-405b-d5ec-a1a3be91f856"
      },
      "execution_count": null,
      "outputs": [
        {
          "output_type": "stream",
          "name": "stdout",
          "text": [
            "[ 5 21 23 23 38 60 75 89 90 96]\n",
            "Original array:\n",
            " [[11 21 80]\n",
            " [88 39 97]\n",
            " [70 76 19]]\n",
            "\n",
            "Sorted array (each row in ascending order):\n",
            " [[11 21 80]\n",
            " [39 88 97]\n",
            " [19 70 76]]\n"
          ]
        }
      ]
    },
    {
      "cell_type": "code",
      "source": [
        "#Create a 5x5 array of random integers between 1 and 20. Use advanced indexing to replace all elements greater than 10 with the value 10.\n",
        "arr = np.random.randint(1,21,(5,5))\n",
        "print(arr)\n",
        "arrsor= arr > 10\n",
        "print(arrsor)\n",
        "corrarr = np.where(arr>10,10,arr)\n",
        "print(corrarr)\n",
        "#Create a 4x4 array of random values. Extract the corner elements using indexing.\n",
        "ar = np.random.rand(4, 4)\n",
        "top_left = ar[0, 0]\n",
        "top_right = ar[0, -1]\n",
        "bottom_left = ar[-1, 0]\n",
        "bottom_right = ar[-1, -1]\n",
        "\n",
        "print(\"Array:\")\n",
        "print(ar)\n",
        "print(\"\\nCorner elements:\")\n",
        "print(\"Top-left:\", top_left)\n",
        "print(\"Top-right:\", top_right)\n",
        "print(\"Bottom-left:\", bottom_left)\n",
        "print(\"Bottom-right:\", bottom_right)"
      ],
      "metadata": {
        "id": "SFDev9Tg-r9c",
        "colab": {
          "base_uri": "https://localhost:8080/"
        },
        "outputId": "b5488827-a9e9-48a1-fcdd-a2271ca46a24"
      },
      "execution_count": null,
      "outputs": [
        {
          "output_type": "stream",
          "name": "stdout",
          "text": [
            "[[ 1 19  8  3  1]\n",
            " [19 12 19  6 15]\n",
            " [14  1  7  4  6]\n",
            " [ 3 11 12 16 14]\n",
            " [ 9  6  3 11 14]]\n",
            "[[False  True False False False]\n",
            " [ True  True  True False  True]\n",
            " [ True False False False False]\n",
            " [False  True  True  True  True]\n",
            " [False False False  True  True]]\n",
            "[[ 1 10  8  3  1]\n",
            " [10 10 10  6 10]\n",
            " [10  1  7  4  6]\n",
            " [ 3 10 10 10 10]\n",
            " [ 9  6  3 10 10]]\n",
            "Array:\n",
            "[[0.43614216 0.53507387 0.88648025 0.22665222]\n",
            " [0.24620603 0.23977283 0.28575388 0.35216035]\n",
            " [0.38123497 0.57245474 0.43817601 0.72742036]\n",
            " [0.58557478 0.5195785  0.5715528  0.78338903]]\n",
            "\n",
            "Corner elements:\n",
            "Top-left: 0.4361421584791503\n",
            "Top-right: 0.2266522204080066\n",
            "Bottom-left: 0.5855747762455208\n",
            "Bottom-right: 0.7833890291802506\n"
          ]
        }
      ]
    },
    {
      "cell_type": "code",
      "source": [],
      "metadata": {
        "id": "c0UwtDG_CShG"
      },
      "execution_count": null,
      "outputs": []
    }
  ]
}